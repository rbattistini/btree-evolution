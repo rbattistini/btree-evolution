{
 "cells": [
  {
   "cell_type": "code",
   "execution_count": null,
   "metadata": {
    "collapsed": true
   },
   "outputs": [],
   "source": [
    "%use lets-plot\n",
    "%use dataframe"
   ]
  },
  {
   "metadata": {},
   "cell_type": "code",
   "outputs": [],
   "execution_count": null,
   "source": [
    "import java . io . File  fun loadJsonFilesToDataFrame(directoryPath: String): List<File> {\n",
    "  val dir = File(\n",
    "    directoryPath\n",
    "  )   require(dir.isDirectory) {\n",
    "    \"The provided path is not a directory: $directoryPath\"\n",
    "  }\n",
    "  val jsonFiles = dir.listFiles { file ->\n",
    "    file.extension == \"json\"\n",
    "  }   require(!jsonFiles.isNullOrEmpty()) {\n",
    "    \"No JSON files found in the directory: $directoryPath\"\n",
    "  }    return jsonFiles.toList(\n",
    "  )\n",
    "}"
   ]
  },
  {
   "metadata": {},
   "cell_type": "code",
   "outputs": [],
   "execution_count": null,
   "source": [
    "val files = loadJsonFilesToDataFrame(\"../experiment\").map { it.path }\n",
    "val allExperiments = files.map { DataFrame.read(it) }.reduce { it1, it2 -> it1.concat(it2) }"
   ]
  },
  {
   "metadata": {},
   "cell_type": "code",
   "outputs": [],
   "execution_count": null,
   "source": "val trees = allExperiments.sortBy { globalStats.bestFitness.max }.globalStats.bestBTree"
  },
  {
   "metadata": {},
   "cell_type": "code",
   "outputs": [],
   "execution_count": null,
   "source": "trees[0]"
  }
 ],
 "metadata": {
  "kernelspec": {
   "display_name": "Kotlin",
   "language": "kotlin",
   "name": "kotlin"
  },
  "language_info": {
   "name": "kotlin",
   "version": "1.9.23",
   "mimetype": "text/x-kotlin",
   "file_extension": ".kt",
   "pygments_lexer": "kotlin",
   "codemirror_mode": "text/x-kotlin",
   "nbconvert_exporter": ""
  }
 },
 "nbformat": 4,
 "nbformat_minor": 0
}
