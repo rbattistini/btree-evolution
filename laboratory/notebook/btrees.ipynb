{
 "cells": [
  {
   "cell_type": "code",
   "metadata": {
    "collapsed": true,
    "ExecuteTime": {
     "end_time": "2025-01-15T19:53:11.034225387Z",
     "start_time": "2025-01-15T19:53:05.597921847Z"
    }
   },
   "source": [
    "%use lets-plot\n",
    "%use dataframe"
   ],
   "outputs": [
    {
     "data": {
      "text/html": [
       "   <div id=\"4sQ5AK\"></div>\n",
       "   <script type=\"text/javascript\" data-lets-plot-script=\"library\">\n",
       "       if(!window.letsPlotCallQueue) {\n",
       "           window.letsPlotCallQueue = [];\n",
       "       }; \n",
       "       window.letsPlotCall = function(f) {\n",
       "           window.letsPlotCallQueue.push(f);\n",
       "       };\n",
       "       (function() {\n",
       "           var script = document.createElement(\"script\");\n",
       "           script.type = \"text/javascript\";\n",
       "           script.src = \"https://cdn.jsdelivr.net/gh/JetBrains/lets-plot@v4.4.1/js-package/distr/lets-plot.min.js\";\n",
       "           script.onload = function() {\n",
       "               window.letsPlotCall = function(f) {f();};\n",
       "               window.letsPlotCallQueue.forEach(function(f) {f();});\n",
       "               window.letsPlotCallQueue = [];\n",
       "               \n",
       "               \n",
       "           };\n",
       "           script.onerror = function(event) {\n",
       "               window.letsPlotCall = function(f) {};\n",
       "               window.letsPlotCallQueue = [];\n",
       "               var div = document.createElement(\"div\");\n",
       "               div.style.color = 'darkred';\n",
       "               div.textContent = 'Error loading Lets-Plot JS';\n",
       "               document.getElementById(\"4sQ5AK\").appendChild(div);\n",
       "           };\n",
       "           var e = document.getElementById(\"4sQ5AK\");\n",
       "           e.appendChild(script);\n",
       "       })();\n",
       "   </script>"
      ]
     },
     "metadata": {},
     "output_type": "display_data"
    }
   ],
   "execution_count": 4
  },
  {
   "metadata": {
    "ExecuteTime": {
     "end_time": "2025-01-15T19:53:34.571885802Z",
     "start_time": "2025-01-15T19:53:34.346798323Z"
    }
   },
   "cell_type": "code",
   "source": [
    "import java.io.File  \n",
    "fun loadJsonFilesToDataFrame(directoryPath: String): List<File> {\n",
    "  val dir = File(directoryPath)   \n",
    "  require(dir.isDirectory) { \"The provided path is not a directory: $directoryPath\" }\n",
    "  val jsonFiles = dir.listFiles { file ->\n",
    "    file.extension == \"json\"\n",
    "  }\n",
    "  require(!jsonFiles.isNullOrEmpty()) { \"No JSON files found in the directory: $directoryPath\" }\n",
    "  return jsonFiles.toList()\n",
    "}"
   ],
   "outputs": [],
   "execution_count": 6
  },
  {
   "metadata": {
    "ExecuteTime": {
     "end_time": "2025-01-15T19:53:39.058492877Z",
     "start_time": "2025-01-15T19:53:37.033175683Z"
    }
   },
   "cell_type": "code",
   "source": [
    "val files = loadJsonFilesToDataFrame(\"../experiment\").map { it.path }\n",
    "val allExperiments = files.map { DataFrame.read(it) }.reduce { it1, it2 -> it1.concat(it2) }"
   ],
   "outputs": [],
   "execution_count": 7
  },
  {
   "metadata": {
    "ExecuteTime": {
     "end_time": "2025-01-15T19:53:39.159265956Z",
     "start_time": "2025-01-15T19:53:39.066693262Z"
    }
   },
   "cell_type": "code",
   "source": "val trees = allExperiments.sortBy { globalStats.bestFitness.max }.globalStats.bestBTree",
   "outputs": [],
   "execution_count": 8
  },
  {
   "metadata": {
    "ExecuteTime": {
     "end_time": "2025-01-15T19:53:47.292496689Z",
     "start_time": "2025-01-15T19:53:47.246056426Z"
    }
   },
   "cell_type": "code",
   "source": "trees[5]",
   "outputs": [
    {
     "data": {
      "text/plain": [
       "└── Sequence\n",
       "    ├── checkForAndStore[Obstacle, Boundary, Visited]\n",
       "    ├── turnToAvoidStored\n",
       "    └── moveForward\n"
      ]
     },
     "execution_count": 10,
     "metadata": {},
     "output_type": "execute_result"
    }
   ],
   "execution_count": 10
  },
  {
   "metadata": {
    "ExecuteTime": {
     "end_time": "2025-01-15T19:53:52.057229361Z",
     "start_time": "2025-01-15T19:53:52.008309522Z"
    }
   },
   "cell_type": "code",
   "source": "trees[4]",
   "outputs": [
    {
     "data": {
      "text/plain": [
       "└── Sequence\n",
       "    ├── turnRandomly\n",
       "    ├── checkForAndStore[Obstacle, Boundary, Visited]\n",
       "    ├── turnToAvoidStored\n",
       "    ├── Stop\n",
       "    ├── moveForward\n",
       "    ├── Selector\n",
       "    │   └── turnRandomly\n",
       "    ├── turnRandomly\n",
       "    └── Selector\n",
       "        └── turnToFollowStored\n"
      ]
     },
     "execution_count": 11,
     "metadata": {},
     "output_type": "execute_result"
    }
   ],
   "execution_count": 11
  },
  {
   "metadata": {
    "ExecuteTime": {
     "end_time": "2025-01-15T19:53:56.804263199Z",
     "start_time": "2025-01-15T19:53:56.767762839Z"
    }
   },
   "cell_type": "code",
   "source": "trees[3]",
   "outputs": [
    {
     "data": {
      "text/plain": [
       "└── Selector\n",
       "    ├── moveForward\n",
       "    ├── checkForwardFor[GreenLight]\n",
       "    ├── turnRandomly\n",
       "    ├── turnToLeft\n",
       "    ├── checkRightFor[Obstacle, Boundary, Visited]\n",
       "    └── Sequence\n",
       "        ├── turnToLeft\n",
       "        └── turnRandomly\n"
      ]
     },
     "execution_count": 12,
     "metadata": {},
     "output_type": "execute_result"
    }
   ],
   "execution_count": 12
  }
 ],
 "metadata": {
  "kernelspec": {
   "display_name": "Kotlin",
   "language": "kotlin",
   "name": "kotlin"
  },
  "language_info": {
   "name": "kotlin",
   "version": "1.9.23",
   "mimetype": "text/x-kotlin",
   "file_extension": ".kt",
   "pygments_lexer": "kotlin",
   "codemirror_mode": "text/x-kotlin",
   "nbconvert_exporter": ""
  }
 },
 "nbformat": 4,
 "nbformat_minor": 0
}
